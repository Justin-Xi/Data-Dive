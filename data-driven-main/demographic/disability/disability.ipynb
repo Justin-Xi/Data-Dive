{
 "cells": [
  {
   "cell_type": "code",
   "execution_count": 2,
   "metadata": {},
   "outputs": [
    {
     "data": {
      "text/html": [
       "<div>\n",
       "<style scoped>\n",
       "    .dataframe tbody tr th:only-of-type {\n",
       "        vertical-align: middle;\n",
       "    }\n",
       "\n",
       "    .dataframe tbody tr th {\n",
       "        vertical-align: top;\n",
       "    }\n",
       "\n",
       "    .dataframe thead th {\n",
       "        text-align: right;\n",
       "    }\n",
       "</style>\n",
       "<table border=\"1\" class=\"dataframe\">\n",
       "  <thead>\n",
       "    <tr style=\"text-align: right;\">\n",
       "      <th></th>\n",
       "      <th>State</th>\n",
       "      <th>Disability Rate (%)</th>\n",
       "    </tr>\n",
       "  </thead>\n",
       "  <tbody>\n",
       "    <tr>\n",
       "      <th>0</th>\n",
       "      <td>Alabama</td>\n",
       "      <td>16.860858</td>\n",
       "    </tr>\n",
       "    <tr>\n",
       "      <th>1</th>\n",
       "      <td>Alaska</td>\n",
       "      <td>13.236428</td>\n",
       "    </tr>\n",
       "    <tr>\n",
       "      <th>2</th>\n",
       "      <td>Arizona</td>\n",
       "      <td>13.581416</td>\n",
       "    </tr>\n",
       "    <tr>\n",
       "      <th>3</th>\n",
       "      <td>Arkansas</td>\n",
       "      <td>18.064629</td>\n",
       "    </tr>\n",
       "    <tr>\n",
       "      <th>4</th>\n",
       "      <td>California</td>\n",
       "      <td>11.744177</td>\n",
       "    </tr>\n",
       "  </tbody>\n",
       "</table>\n",
       "</div>"
      ],
      "text/plain": [
       "        State  Disability Rate (%)\n",
       "0     Alabama            16.860858\n",
       "1      Alaska            13.236428\n",
       "2     Arizona            13.581416\n",
       "3    Arkansas            18.064629\n",
       "4  California            11.744177"
      ]
     },
     "execution_count": 2,
     "metadata": {},
     "output_type": "execute_result"
    }
   ],
   "source": [
    "import pandas as pd\n",
    "\n",
    "# Load the Excel file\n",
    "file_path = 'disability.xlsx'\n",
    "df = pd.read_excel(file_path)\n",
    "\n",
    "# Display the first few rows of the dataframe to understand its structure\n",
    "df.head()\n",
    "\n",
    "\n",
    "\n",
    "# Calculate the total number of people with disability and total population for each state\n",
    "df['Total With Disability'] = (\n",
    "    df['Under 19 years:!!With a disability'] +\n",
    "    df['19 to 64 years:!!With a disability'] +\n",
    "    df['65 years and over:!!With a disability']\n",
    ")\n",
    "\n",
    "df['Total Population'] = (\n",
    "    df['Under 19 years'] +\n",
    "    df['19 to 64 years'] +\n",
    "    df['65 years and over']\n",
    ")\n",
    "\n",
    "# Calculate the disability rate for each state\n",
    "df['Disability Rate (%)'] = (df['Total With Disability'] / df['Total Population']) * 100\n",
    "\n",
    "# Create a new dataframe with State and Disability Rate\n",
    "disability_rate_df = df[['State', 'Disability Rate (%)']]\n",
    "# Save the new dataframe to a new Excel file\n",
    "disability_rate_df.to_excel('disability_rate.xlsx', index=False)\n",
    "disability_rate_df.head()\n"
   ]
  }
 ],
 "metadata": {
  "kernelspec": {
   "display_name": "Python 3",
   "language": "python",
   "name": "python3"
  },
  "language_info": {
   "codemirror_mode": {
    "name": "ipython",
    "version": 3
   },
   "file_extension": ".py",
   "mimetype": "text/x-python",
   "name": "python",
   "nbconvert_exporter": "python",
   "pygments_lexer": "ipython3",
   "version": "3.9.6"
  }
 },
 "nbformat": 4,
 "nbformat_minor": 2
}
