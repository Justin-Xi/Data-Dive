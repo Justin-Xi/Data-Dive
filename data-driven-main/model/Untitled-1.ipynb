{
 "cells": [
  {
   "cell_type": "code",
   "execution_count": null,
   "metadata": {},
   "outputs": [],
   "source": [
    "# 读取Dm_model的excel文件\n",
    "import pandas as pd\n",
    "df = pd.read_excel('Dm_model.xlsx')\n"
   ]
  }
 ],
 "metadata": {
  "language_info": {
   "name": "python"
  }
 },
 "nbformat": 4,
 "nbformat_minor": 2
}
