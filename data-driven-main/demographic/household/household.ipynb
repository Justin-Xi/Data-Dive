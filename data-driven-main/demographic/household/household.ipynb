{
 "cells": [
  {
   "cell_type": "code",
   "execution_count": 2,
   "metadata": {},
   "outputs": [
    {
     "data": {
      "text/html": [
       "<div>\n",
       "<style scoped>\n",
       "    .dataframe tbody tr th:only-of-type {\n",
       "        vertical-align: middle;\n",
       "    }\n",
       "\n",
       "    .dataframe tbody tr th {\n",
       "        vertical-align: top;\n",
       "    }\n",
       "\n",
       "    .dataframe thead th {\n",
       "        text-align: right;\n",
       "    }\n",
       "</style>\n",
       "<table border=\"1\" class=\"dataframe\">\n",
       "  <thead>\n",
       "    <tr style=\"text-align: right;\">\n",
       "      <th></th>\n",
       "      <th>State</th>\n",
       "      <th>Households with Children Under 18 (%)</th>\n",
       "    </tr>\n",
       "  </thead>\n",
       "  <tbody>\n",
       "    <tr>\n",
       "      <th>0</th>\n",
       "      <td>Alabama</td>\n",
       "      <td>25.076074</td>\n",
       "    </tr>\n",
       "    <tr>\n",
       "      <th>1</th>\n",
       "      <td>Alaska</td>\n",
       "      <td>27.726223</td>\n",
       "    </tr>\n",
       "    <tr>\n",
       "      <th>2</th>\n",
       "      <td>Arizona</td>\n",
       "      <td>25.173021</td>\n",
       "    </tr>\n",
       "    <tr>\n",
       "      <th>3</th>\n",
       "      <td>Arkansas</td>\n",
       "      <td>25.979212</td>\n",
       "    </tr>\n",
       "    <tr>\n",
       "      <th>4</th>\n",
       "      <td>California</td>\n",
       "      <td>27.853629</td>\n",
       "    </tr>\n",
       "  </tbody>\n",
       "</table>\n",
       "</div>"
      ],
      "text/plain": [
       "        State  Households with Children Under 18 (%)\n",
       "0     Alabama                              25.076074\n",
       "1      Alaska                              27.726223\n",
       "2     Arizona                              25.173021\n",
       "3    Arkansas                              25.979212\n",
       "4  California                              27.853629"
      ]
     },
     "execution_count": 2,
     "metadata": {},
     "output_type": "execute_result"
    }
   ],
   "source": [
    "import pandas as pd\n",
    "\n",
    "# Correctly setting the file path as initially provided by the user\n",
    "file_path = 'household(?children).xlsx'\n",
    "\n",
    "# Try loading the Excel file again with the correct path\n",
    "df_children_actual = pd.read_excel(file_path)\n",
    "\n",
    "# Calculate the percentage of households with own children under 18 years for each state\n",
    "df_children_actual['Households with Children Under 18 (%)'] = (\n",
    "    df_children_actual['Households with own children under 18 years'] / df_children_actual['Total households']\n",
    ") * 100\n",
    "\n",
    "# Create a new dataframe with State and the calculated percentage\n",
    "households_with_children_df = df_children_actual[['State', 'Households with Children Under 18 (%)']]\n",
    "# Save the new dataframe to a new Excel file\n",
    "households_with_children_df.to_excel('households_with_children.xlsx', index=False)\n",
    "households_with_children_df.head()\n",
    "\n"
   ]
  }
 ],
 "metadata": {
  "kernelspec": {
   "display_name": "Python 3",
   "language": "python",
   "name": "python3"
  },
  "language_info": {
   "codemirror_mode": {
    "name": "ipython",
    "version": 3
   },
   "file_extension": ".py",
   "mimetype": "text/x-python",
   "name": "python",
   "nbconvert_exporter": "python",
   "pygments_lexer": "ipython3",
   "version": "3.9.6"
  }
 },
 "nbformat": 4,
 "nbformat_minor": 2
}
